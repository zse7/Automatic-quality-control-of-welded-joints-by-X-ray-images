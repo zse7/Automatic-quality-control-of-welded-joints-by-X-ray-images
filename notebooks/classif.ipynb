{
 "cells": [
  {
   "cell_type": "code",
   "execution_count": 1,
   "id": "3c67e4be",
   "metadata": {},
   "outputs": [],
   "source": [
    "import torch\n",
    "import torch.nn as nn\n",
    "from torch.utils.data import Dataset, DataLoader\n",
    "from torchvision import transforms\n",
    "from PIL import Image, ImageEnhance\n",
    "import pandas as pd\n",
    "from pathlib import Path\n",
    "import numpy as np\n",
    "from sklearn.preprocessing import MultiLabelBinarizer\n",
    "from sklearn.metrics import f1_score, roc_auc_score\n",
    "import timm\n",
    "import os\n",
    "import json\n",
    "import random"
   ]
  },
  {
   "cell_type": "code",
   "execution_count": null,
   "id": "bf46679b",
   "metadata": {},
   "outputs": [],
   "source": [
    "PROJECT_ROOT = Path(r\"../\") \n",
    "CSV_DIR = PROJECT_ROOT / \"data\" / \"imagelevel\"\n",
    "TRAIN_CSV = CSV_DIR / \"train.csv\"\n",
    "VAL_CSV = CSV_DIR / \"val.csv\"\n",
    "TEST_CSV = CSV_DIR / \"test.csv\"\n",
    "MODEL_DIR = PROJECT_ROOT / \"models\"\n",
    "MODEL_DIR.mkdir(parents=True, exist_ok=True)"
   ]
  },
  {
   "cell_type": "code",
   "execution_count": 3,
   "id": "27f1da38",
   "metadata": {},
   "outputs": [],
   "source": [
    "BATCH_SIZE = 16\n",
    "IMG_SIZE = 640\n",
    "LR = 1e-4\n",
    "EPOCHS = 10\n",
    "NUM_WORKERS = 4\n",
    "DEVICE = \"cuda\" if torch.cuda.is_available() else \"cpu\""
   ]
  },
  {
   "cell_type": "code",
   "execution_count": null,
   "id": "db227c6a",
   "metadata": {},
   "outputs": [],
   "source": [
    "LIMITS = {\n",
    "    \"train\": 300,\n",
    "    \"val\": 150,\n",
    "    \"test\": 100\n",
    "}\n",
    "\n",
    "def trim_csv(csv_path, limit, seed=42):\n",
    "    df = pd.read_csv(csv_path)\n",
    "    random.seed(seed)\n",
    "    trimmed_rows = []\n",
    "    classes_set = set()\n",
    "    \n",
    "    # собираем все классы\n",
    "    for row in df['classes'].fillna(\"\"):\n",
    "        row_classes = [int(c) for c in row.split(\",\") if c != \"\"]\n",
    "        classes_set.update(row_classes)\n",
    "    classes_list = list(classes_set)\n",
    "    \n",
    "    # обрезаем по лимиту\n",
    "    for cls in classes_list:\n",
    "        cls_rows = df[df['classes'].str.contains(str(cls), na=False)].copy()\n",
    "        if len(cls_rows) > limit:\n",
    "            cls_rows = cls_rows.sample(limit, random_state=seed)\n",
    "        trimmed_rows.append(cls_rows)\n",
    "    \n",
    "    df_trimmed = pd.concat(trimmed_rows).drop_duplicates().reset_index(drop=True)\n",
    "    return df_trimmed\n",
    "\n",
    "train_trimmed = trim_csv(TRAIN_CSV, LIMITS['train'])\n",
    "val_trimmed = trim_csv(VAL_CSV, LIMITS['val'])\n",
    "test_trimmed = trim_csv(TEST_CSV, LIMITS['test'])"
   ]
  },
  {
   "cell_type": "code",
   "execution_count": null,
   "id": "e976ab86",
   "metadata": {},
   "outputs": [],
   "source": [
    "class MultiLabelDataset(Dataset):\n",
    "    def __init__(self, df, project_root, transform=None, mlb=None):\n",
    "        self.df = df\n",
    "        self.project_root = Path(project_root)\n",
    "        self.transform = transform\n",
    "        self.mlb = mlb\n",
    "\n",
    "        self.labels_list = self.df['classes'].fillna(\"\").apply(lambda x: [int(c) for c in x.split(\",\") if c!=\"\"]).tolist()\n",
    "        if self.mlb is None:\n",
    "            self.mlb = MultiLabelBinarizer()\n",
    "            self.mlb.fit(self.labels_list)\n",
    "        self.labels_bin = self.mlb.transform(self.labels_list)\n",
    "\n",
    "    def __len__(self):\n",
    "        return len(self.df)\n",
    "\n",
    "    def __getitem__(self, idx):\n",
    "        img_path = self.project_root / self.df.iloc[idx]['image_path']\n",
    "        img = Image.open(img_path).convert(\"RGB\")\n",
    "        img = img.resize((IMG_SIZE, IMG_SIZE))\n",
    "        enhancer = ImageEnhance.Contrast(img)\n",
    "        img = enhancer.enhance(1.2)\n",
    "        if self.transform:\n",
    "            img = self.transform(img)\n",
    "        label = torch.FloatTensor(self.labels_bin[idx])\n",
    "        return img, label"
   ]
  },
  {
   "cell_type": "code",
   "execution_count": null,
   "id": "40a6015d",
   "metadata": {},
   "outputs": [],
   "source": [
    "train_transform = transforms.Compose([\n",
    "    transforms.RandomHorizontalFlip(),\n",
    "    transforms.RandomVerticalFlip(),\n",
    "    transforms.RandomRotation(15),\n",
    "    transforms.ColorJitter(brightness=0.2, contrast=0.2),\n",
    "    transforms.ToTensor(),\n",
    "])\n",
    "\n",
    "val_transform = transforms.Compose([\n",
    "    transforms.ToTensor(),\n",
    "])"
   ]
  },
  {
   "cell_type": "code",
   "execution_count": 7,
   "id": "20c07256",
   "metadata": {},
   "outputs": [
    {
     "name": "stderr",
     "output_type": "stream",
     "text": [
      "c:\\Users\\shhhu\\AppData\\Local\\Programs\\Python\\Python310\\lib\\site-packages\\sklearn\\preprocessing\\_label.py:909: UserWarning: unknown class(es) [3, 8] will be ignored\n",
      "  warnings.warn(\n"
     ]
    }
   ],
   "source": [
    "train_dataset = MultiLabelDataset(train_trimmed, PROJECT_ROOT, transform=train_transform)\n",
    "val_dataset = MultiLabelDataset(val_trimmed, PROJECT_ROOT, transform=val_transform, mlb=train_dataset.mlb)\n",
    "test_dataset = MultiLabelDataset(test_trimmed, PROJECT_ROOT, transform=val_transform, mlb=train_dataset.mlb)\n",
    "\n",
    "NUM_CLASSES = len(train_dataset.mlb.classes_)\n",
    "\n",
    "train_loader = DataLoader(train_dataset, batch_size=BATCH_SIZE, shuffle=True, num_workers=NUM_WORKERS)\n",
    "val_loader = DataLoader(val_dataset, batch_size=BATCH_SIZE, shuffle=False, num_workers=NUM_WORKERS)\n",
    "test_loader = DataLoader(test_dataset, batch_size=BATCH_SIZE, shuffle=False, num_workers=NUM_WORKERS)\n"
   ]
  },
  {
   "cell_type": "code",
   "execution_count": null,
   "id": "91055cef",
   "metadata": {},
   "outputs": [
    {
     "name": "stdout",
     "output_type": "stream",
     "text": [
      "Class distribution after trimming:\n",
      "{\n",
      "    \"classes\": [\n",
      "        \"0\",\n",
      "        \"1\",\n",
      "        \"2\",\n",
      "        \"4\",\n",
      "        \"6\",\n",
      "        \"7\",\n",
      "        \"10\",\n",
      "        \"11\",\n",
      "        \"12\"\n",
      "    ],\n",
      "    \"counts\": {\n",
      "        \"train\": {\n",
      "            \"0\": 424,\n",
      "            \"1\": 224,\n",
      "            \"2\": 31,\n",
      "            \"4\": 300,\n",
      "            \"6\": 360,\n",
      "            \"7\": 332,\n",
      "            \"10\": 56,\n",
      "            \"11\": 53,\n",
      "            \"12\": 778\n",
      "        },\n",
      "        \"val\": {\n",
      "            \"0\": 222,\n",
      "            \"1\": 123,\n",
      "            \"2\": 17,\n",
      "            \"4\": 150,\n",
      "            \"6\": 182,\n",
      "            \"7\": 165,\n",
      "            \"10\": 21,\n",
      "            \"11\": 24,\n",
      "            \"12\": 377\n",
      "        },\n",
      "        \"test\": {\n",
      "            \"0\": 169,\n",
      "            \"1\": 124,\n",
      "            \"2\": 12,\n",
      "            \"4\": 100,\n",
      "            \"6\": 134,\n",
      "            \"7\": 135,\n",
      "            \"10\": 28,\n",
      "            \"11\": 24,\n",
      "            \"12\": 220\n",
      "        }\n",
      "    }\n",
      "}\n"
     ]
    }
   ],
   "source": [
    "def print_class_stats(datasets, names):\n",
    "    \"\"\"\n",
    "    datasets: list of MultiLabelDataset\n",
    "    names: list of str [\"train\", \"val\", \"test\"]\n",
    "    \"\"\"\n",
    "    result = {\"classes\": [str(c) for c in datasets[0].mlb.classes_], \"counts\": {}}\n",
    "    for ds, name in zip(datasets, names):\n",
    "        counts = {}\n",
    "        for idx, cls in enumerate(ds.mlb.classes_):\n",
    "            counts[str(cls)] = int(ds.labels_bin[:, idx].sum())\n",
    "        result[\"counts\"][name] = counts\n",
    "    print(json.dumps(result, indent=4))\n",
    "\n",
    "print(\"Class distribution after trimming:\")\n",
    "print_class_stats([train_dataset, val_dataset, test_dataset], [\"train\", \"val\", \"test\"])"
   ]
  },
  {
   "cell_type": "code",
   "execution_count": null,
   "id": "2a59fcdc",
   "metadata": {},
   "outputs": [
    {
     "data": {
      "application/vnd.jupyter.widget-view+json": {
       "model_id": "6120280458294d70bd942652d292eed4",
       "version_major": 2,
       "version_minor": 0
      },
      "text/plain": [
       "model.safetensors:   0%|          | 0.00/10.2M [00:00<?, ?B/s]"
      ]
     },
     "metadata": {},
     "output_type": "display_data"
    }
   ],
   "source": [
    "model = timm.create_model(\"mobilenetv3_small_100\", pretrained=True, num_classes=NUM_CLASSES)\n",
    "model = model.to(DEVICE)"
   ]
  },
  {
   "cell_type": "code",
   "execution_count": null,
   "id": "b8700f68",
   "metadata": {},
   "outputs": [],
   "source": [
    "# считаем количество примеров для каждого класса\n",
    "labels_bin = train_dataset.labels_bin\n",
    "class_counts = labels_bin.sum(axis=0)\n",
    "total_samples = labels_bin.shape[0]\n",
    "pos_weight = torch.tensor((total_samples - class_counts) / (class_counts + 1e-6), dtype=torch.float32).to(DEVICE)\n",
    "\n",
    "criterion = nn.BCEWithLogitsLoss(pos_weight=pos_weight)\n",
    "optimizer = torch.optim.Adam(model.parameters(), lr=LR)"
   ]
  },
  {
   "cell_type": "code",
   "execution_count": null,
   "id": "d3e11369",
   "metadata": {},
   "outputs": [],
   "source": [
    "def train_one_epoch(model, loader, optimizer, criterion):\n",
    "    model.train()\n",
    "    running_loss = 0.0\n",
    "    total_batches = len(loader)\n",
    "    for i, (imgs, labels) in enumerate(loader, 1):\n",
    "        imgs, labels = imgs.to(DEVICE), labels.to(DEVICE)\n",
    "        optimizer.zero_grad()\n",
    "        outputs = model(imgs)\n",
    "        loss = criterion(outputs, labels)\n",
    "        loss.backward()\n",
    "        optimizer.step()\n",
    "        running_loss += loss.item() * imgs.size(0)\n",
    "\n",
    "        if i % 5 == 0 or i == total_batches:\n",
    "            print(f\"\\rBatch {i}/{total_batches} ({i/total_batches*100:.1f}%)\", end=\"\")\n",
    "\n",
    "    print()  # перенос строки после окончания эпохи\n",
    "    return running_loss / len(loader.dataset)\n",
    "\n",
    "@torch.no_grad()\n",
    "def evaluate(model, loader, criterion):\n",
    "    model.eval()\n",
    "    running_loss = 0.0\n",
    "    all_labels, all_preds = [], []\n",
    "    for imgs, labels in loader:\n",
    "        imgs, labels = imgs.to(DEVICE), labels.to(DEVICE)\n",
    "        outputs = model(imgs)\n",
    "        loss = criterion(outputs, labels)\n",
    "        running_loss += loss.item() * imgs.size(0)\n",
    "        all_preds.append(torch.sigmoid(outputs).cpu().numpy())\n",
    "        all_labels.append(labels.cpu().numpy())\n",
    "    all_preds = np.vstack(all_preds)\n",
    "    all_labels = np.vstack(all_labels)\n",
    "    f1 = f1_score(all_labels, all_preds > 0.5, average='micro')\n",
    "    try:\n",
    "        roc_auc = roc_auc_score(all_labels, all_preds, average='micro')\n",
    "    except ValueError:\n",
    "        roc_auc = 0.0\n",
    "    return running_loss / len(loader.dataset), f1, roc_auc"
   ]
  },
  {
   "cell_type": "code",
   "execution_count": null,
   "id": "a9896052",
   "metadata": {},
   "outputs": [],
   "source": [
    "best_val_loss = float('inf')\n",
    "for epoch in range(1, EPOCHS + 1):\n",
    "    train_loss = train_one_epoch(model, train_loader, optimizer, criterion)\n",
    "    val_loss, val_f1, val_roc = evaluate(model, val_loader, criterion)\n",
    "    print(f\"Epoch {epoch}/{EPOCHS} | Train Loss: {train_loss:.4f} | Val Loss: {val_loss:.4f} | F1: {val_f1:.4f} | ROC-AUC: {val_roc:.4f}\")\n",
    "    \n",
    "    if val_loss < best_val_loss:\n",
    "        best_val_loss = val_loss\n",
    "        torch.save(model.state_dict(), MODEL_DIR / \"best_model.pth\")\n",
    "        print(\"Saved best model.\")"
   ]
  },
  {
   "cell_type": "code",
   "execution_count": null,
   "id": "f887b7fb",
   "metadata": {},
   "outputs": [],
   "source": [
    "est_loss, test_f1, test_roc = evaluate(model, test_loader, criterion)\n",
    "print(f\"Test Loss: {est_loss:.4f} | F1: {test_f1:.4f} | ROC-AUC: {test_roc:.4f}\")"
   ]
  }
 ],
 "metadata": {
  "kernelspec": {
   "display_name": "Python 3",
   "language": "python",
   "name": "python3"
  },
  "language_info": {
   "codemirror_mode": {
    "name": "ipython",
    "version": 3
   },
   "file_extension": ".py",
   "mimetype": "text/x-python",
   "name": "python",
   "nbconvert_exporter": "python",
   "pygments_lexer": "ipython3",
   "version": "3.10.0"
  }
 },
 "nbformat": 4,
 "nbformat_minor": 5
}
